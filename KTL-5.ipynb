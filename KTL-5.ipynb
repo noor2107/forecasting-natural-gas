{
 "cells": [
  {
   "cell_type": "code",
   "execution_count": 1,
   "metadata": {},
   "outputs": [],
   "source": [
    "import numpy as np\n",
    "import pandas as pd\n",
    "import matplotlib.pyplot as plt\n",
    "import seaborn as sns\n",
    "%matplotlib inline"
   ]
  },
  {
   "cell_type": "markdown",
   "metadata": {},
   "source": [
    "## Note:\n",
    "There are lots of null values in the data set especially on the 'Total Condensate' and 'Light Condensate' columns. These two columns are excluded from the dataset. The remaining columns also contain some null values. ,all the rows containing null values are excluded.\n",
    "\n",
    "Here, 'Heavy Condensate' and 'Water' columns used as an input feature "
   ]
  },
  {
   "cell_type": "code",
   "execution_count": 9,
   "metadata": {},
   "outputs": [],
   "source": [
    "df = pd.read_excel('E:\\DATA\\Kailastilla data\\klt1 production1983-2010 chacned.xls',sheet_name=4)"
   ]
  },
  {
   "cell_type": "code",
   "execution_count": 10,
   "metadata": {
    "scrolled": true
   },
   "outputs": [
    {
     "data": {
      "text/html": [
       "<div>\n",
       "<style scoped>\n",
       "    .dataframe tbody tr th:only-of-type {\n",
       "        vertical-align: middle;\n",
       "    }\n",
       "\n",
       "    .dataframe tbody tr th {\n",
       "        vertical-align: top;\n",
       "    }\n",
       "\n",
       "    .dataframe thead th {\n",
       "        text-align: right;\n",
       "    }\n",
       "</style>\n",
       "<table border=\"1\" class=\"dataframe\">\n",
       "  <thead>\n",
       "    <tr style=\"text-align: right;\">\n",
       "      <th></th>\n",
       "      <th>Sylhet Gas Fields Limited</th>\n",
       "      <th>Unnamed: 1</th>\n",
       "      <th>Unnamed: 2</th>\n",
       "      <th>Unnamed: 3</th>\n",
       "      <th>Unnamed: 4</th>\n",
       "      <th>Unnamed: 5</th>\n",
       "      <th>Unnamed: 6</th>\n",
       "      <th>Unnamed: 7</th>\n",
       "      <th>Unnamed: 8</th>\n",
       "      <th>Unnamed: 9</th>\n",
       "      <th>Unnamed: 10</th>\n",
       "      <th>Unnamed: 11</th>\n",
       "    </tr>\n",
       "  </thead>\n",
       "  <tbody>\n",
       "    <tr>\n",
       "      <th>0</th>\n",
       "      <td>(A Company of Petrobangla)</td>\n",
       "      <td>NaN</td>\n",
       "      <td>NaN</td>\n",
       "      <td>NaN</td>\n",
       "      <td>NaN</td>\n",
       "      <td>NaN</td>\n",
       "      <td>NaN</td>\n",
       "      <td>NaN</td>\n",
       "      <td>NaN</td>\n",
       "      <td>NaN</td>\n",
       "      <td>NaN</td>\n",
       "      <td>NaN</td>\n",
       "    </tr>\n",
       "    <tr>\n",
       "      <th>1</th>\n",
       "      <td>Kailashtilla Field</td>\n",
       "      <td>NaN</td>\n",
       "      <td>NaN</td>\n",
       "      <td>NaN</td>\n",
       "      <td>NaN</td>\n",
       "      <td>NaN</td>\n",
       "      <td>NaN</td>\n",
       "      <td>NaN</td>\n",
       "      <td>NaN</td>\n",
       "      <td>NaN</td>\n",
       "      <td>NaN</td>\n",
       "      <td>NaN</td>\n",
       "    </tr>\n",
       "    <tr>\n",
       "      <th>2</th>\n",
       "      <td>Daily Production Analysis</td>\n",
       "      <td>NaN</td>\n",
       "      <td>NaN</td>\n",
       "      <td>NaN</td>\n",
       "      <td>NaN</td>\n",
       "      <td>NaN</td>\n",
       "      <td>NaN</td>\n",
       "      <td>NaN</td>\n",
       "      <td>NaN</td>\n",
       "      <td>NaN</td>\n",
       "      <td>NaN</td>\n",
       "      <td>NaN</td>\n",
       "    </tr>\n",
       "    <tr>\n",
       "      <th>3</th>\n",
       "      <td>Well no. #</td>\n",
       "      <td>KTL -5</td>\n",
       "      <td>NaN</td>\n",
       "      <td>NaN</td>\n",
       "      <td>Month: September 2006</td>\n",
       "      <td>NaN</td>\n",
       "      <td>NaN</td>\n",
       "      <td>NaN</td>\n",
       "      <td>NaN</td>\n",
       "      <td>NaN</td>\n",
       "      <td>NaN</td>\n",
       "      <td>NaN</td>\n",
       "    </tr>\n",
       "    <tr>\n",
       "      <th>4</th>\n",
       "      <td>Date</td>\n",
       "      <td>Gas</td>\n",
       "      <td>Flowing Pressure</td>\n",
       "      <td>Liquid Production</td>\n",
       "      <td>NaN</td>\n",
       "      <td>NaN</td>\n",
       "      <td>NaN</td>\n",
       "      <td>NaN</td>\n",
       "      <td>NaN</td>\n",
       "      <td>NaN</td>\n",
       "      <td>NaN</td>\n",
       "      <td>NaN</td>\n",
       "    </tr>\n",
       "    <tr>\n",
       "      <th>5</th>\n",
       "      <td>NaN</td>\n",
       "      <td>NaN</td>\n",
       "      <td>NaN</td>\n",
       "      <td>Heavy Condensate</td>\n",
       "      <td>Light Condensate</td>\n",
       "      <td>Total Condensate</td>\n",
       "      <td>Water</td>\n",
       "      <td>NaN</td>\n",
       "      <td>NaN</td>\n",
       "      <td>NaN</td>\n",
       "      <td>NaN</td>\n",
       "      <td>NaN</td>\n",
       "    </tr>\n",
       "    <tr>\n",
       "      <th>6</th>\n",
       "      <td>NaN</td>\n",
       "      <td>MMSCF</td>\n",
       "      <td>PSIG</td>\n",
       "      <td>LITER</td>\n",
       "      <td>NaN</td>\n",
       "      <td>NaN</td>\n",
       "      <td>NaN</td>\n",
       "      <td>NaN</td>\n",
       "      <td>NaN</td>\n",
       "      <td>NaN</td>\n",
       "      <td>NaN</td>\n",
       "      <td>NaN</td>\n",
       "    </tr>\n",
       "    <tr>\n",
       "      <th>7</th>\n",
       "      <td>2006-09-01 00:00:00</td>\n",
       "      <td>0</td>\n",
       "      <td>-</td>\n",
       "      <td>0</td>\n",
       "      <td>NaN</td>\n",
       "      <td>NaN</td>\n",
       "      <td>0</td>\n",
       "      <td>NaN</td>\n",
       "      <td>0.000</td>\n",
       "      <td>NaN</td>\n",
       "      <td>NaN</td>\n",
       "      <td>NaN</td>\n",
       "    </tr>\n",
       "    <tr>\n",
       "      <th>8</th>\n",
       "      <td>2006-09-02 00:00:00</td>\n",
       "      <td>0</td>\n",
       "      <td>-</td>\n",
       "      <td>0</td>\n",
       "      <td>NaN</td>\n",
       "      <td>NaN</td>\n",
       "      <td>0</td>\n",
       "      <td>NaN</td>\n",
       "      <td>0.000</td>\n",
       "      <td>NaN</td>\n",
       "      <td>NaN</td>\n",
       "      <td>NaN</td>\n",
       "    </tr>\n",
       "    <tr>\n",
       "      <th>9</th>\n",
       "      <td>2006-09-03 00:00:00</td>\n",
       "      <td>0</td>\n",
       "      <td>-</td>\n",
       "      <td>0</td>\n",
       "      <td>NaN</td>\n",
       "      <td>NaN</td>\n",
       "      <td>0</td>\n",
       "      <td>NaN</td>\n",
       "      <td>0.000</td>\n",
       "      <td>NaN</td>\n",
       "      <td>NaN</td>\n",
       "      <td>NaN</td>\n",
       "    </tr>\n",
       "    <tr>\n",
       "      <th>10</th>\n",
       "      <td>2006-09-04 00:00:00</td>\n",
       "      <td>0</td>\n",
       "      <td>-</td>\n",
       "      <td>0</td>\n",
       "      <td>NaN</td>\n",
       "      <td>NaN</td>\n",
       "      <td>0</td>\n",
       "      <td>NaN</td>\n",
       "      <td>0.000</td>\n",
       "      <td>NaN</td>\n",
       "      <td>NaN</td>\n",
       "      <td>NaN</td>\n",
       "    </tr>\n",
       "    <tr>\n",
       "      <th>11</th>\n",
       "      <td>2006-09-05 00:00:00</td>\n",
       "      <td>0</td>\n",
       "      <td>-</td>\n",
       "      <td>0</td>\n",
       "      <td>NaN</td>\n",
       "      <td>NaN</td>\n",
       "      <td>0</td>\n",
       "      <td>NaN</td>\n",
       "      <td>0.000</td>\n",
       "      <td>NaN</td>\n",
       "      <td>NaN</td>\n",
       "      <td>NaN</td>\n",
       "    </tr>\n",
       "    <tr>\n",
       "      <th>12</th>\n",
       "      <td>2006-09-06 00:00:00</td>\n",
       "      <td>0</td>\n",
       "      <td>-</td>\n",
       "      <td>0</td>\n",
       "      <td>NaN</td>\n",
       "      <td>NaN</td>\n",
       "      <td>0</td>\n",
       "      <td>NaN</td>\n",
       "      <td>0.000</td>\n",
       "      <td>NaN</td>\n",
       "      <td>NaN</td>\n",
       "      <td>NaN</td>\n",
       "    </tr>\n",
       "    <tr>\n",
       "      <th>13</th>\n",
       "      <td>2006-09-07 00:00:00</td>\n",
       "      <td>0</td>\n",
       "      <td>-</td>\n",
       "      <td>0</td>\n",
       "      <td>NaN</td>\n",
       "      <td>NaN</td>\n",
       "      <td>0</td>\n",
       "      <td>NaN</td>\n",
       "      <td>0.000</td>\n",
       "      <td>NaN</td>\n",
       "      <td>NaN</td>\n",
       "      <td>NaN</td>\n",
       "    </tr>\n",
       "    <tr>\n",
       "      <th>14</th>\n",
       "      <td>2006-09-08 00:00:00</td>\n",
       "      <td>0</td>\n",
       "      <td>-</td>\n",
       "      <td>0</td>\n",
       "      <td>NaN</td>\n",
       "      <td>NaN</td>\n",
       "      <td>0</td>\n",
       "      <td>NaN</td>\n",
       "      <td>0.000</td>\n",
       "      <td>NaN</td>\n",
       "      <td>NaN</td>\n",
       "      <td>NaN</td>\n",
       "    </tr>\n",
       "    <tr>\n",
       "      <th>15</th>\n",
       "      <td>2006-09-09 00:00:00</td>\n",
       "      <td>0</td>\n",
       "      <td>-</td>\n",
       "      <td>0</td>\n",
       "      <td>NaN</td>\n",
       "      <td>NaN</td>\n",
       "      <td>0</td>\n",
       "      <td>NaN</td>\n",
       "      <td>0.000</td>\n",
       "      <td>NaN</td>\n",
       "      <td>NaN</td>\n",
       "      <td>NaN</td>\n",
       "    </tr>\n",
       "    <tr>\n",
       "      <th>16</th>\n",
       "      <td>2006-09-10 00:00:00</td>\n",
       "      <td>0</td>\n",
       "      <td>-</td>\n",
       "      <td>0</td>\n",
       "      <td>NaN</td>\n",
       "      <td>NaN</td>\n",
       "      <td>0</td>\n",
       "      <td>NaN</td>\n",
       "      <td>0.000</td>\n",
       "      <td>NaN</td>\n",
       "      <td>NaN</td>\n",
       "      <td>NaN</td>\n",
       "    </tr>\n",
       "    <tr>\n",
       "      <th>17</th>\n",
       "      <td>2006-09-11 00:00:00</td>\n",
       "      <td>0</td>\n",
       "      <td>-</td>\n",
       "      <td>0</td>\n",
       "      <td>NaN</td>\n",
       "      <td>NaN</td>\n",
       "      <td>0</td>\n",
       "      <td>NaN</td>\n",
       "      <td>0.000</td>\n",
       "      <td>NaN</td>\n",
       "      <td>NaN</td>\n",
       "      <td>NaN</td>\n",
       "    </tr>\n",
       "    <tr>\n",
       "      <th>18</th>\n",
       "      <td>2006-09-12 00:00:00</td>\n",
       "      <td>0</td>\n",
       "      <td>-</td>\n",
       "      <td>0</td>\n",
       "      <td>NaN</td>\n",
       "      <td>NaN</td>\n",
       "      <td>0</td>\n",
       "      <td>NaN</td>\n",
       "      <td>0.000</td>\n",
       "      <td>NaN</td>\n",
       "      <td>NaN</td>\n",
       "      <td>NaN</td>\n",
       "    </tr>\n",
       "    <tr>\n",
       "      <th>19</th>\n",
       "      <td>2006-09-13 00:00:00</td>\n",
       "      <td>0</td>\n",
       "      <td>-</td>\n",
       "      <td>0</td>\n",
       "      <td>NaN</td>\n",
       "      <td>NaN</td>\n",
       "      <td>0</td>\n",
       "      <td>NaN</td>\n",
       "      <td>0.000</td>\n",
       "      <td>NaN</td>\n",
       "      <td>NaN</td>\n",
       "      <td>NaN</td>\n",
       "    </tr>\n",
       "    <tr>\n",
       "      <th>20</th>\n",
       "      <td>2006-09-14 00:00:00</td>\n",
       "      <td>0</td>\n",
       "      <td>-</td>\n",
       "      <td>0</td>\n",
       "      <td>NaN</td>\n",
       "      <td>NaN</td>\n",
       "      <td>0</td>\n",
       "      <td>NaN</td>\n",
       "      <td>0.000</td>\n",
       "      <td>NaN</td>\n",
       "      <td>NaN</td>\n",
       "      <td>NaN</td>\n",
       "    </tr>\n",
       "    <tr>\n",
       "      <th>21</th>\n",
       "      <td>2006-09-15 00:00:00</td>\n",
       "      <td>0</td>\n",
       "      <td>-</td>\n",
       "      <td>0</td>\n",
       "      <td>NaN</td>\n",
       "      <td>NaN</td>\n",
       "      <td>0</td>\n",
       "      <td>NaN</td>\n",
       "      <td>0.000</td>\n",
       "      <td>NaN</td>\n",
       "      <td>NaN</td>\n",
       "      <td>NaN</td>\n",
       "    </tr>\n",
       "    <tr>\n",
       "      <th>22</th>\n",
       "      <td>2006-09-16 00:00:00</td>\n",
       "      <td>0</td>\n",
       "      <td>-</td>\n",
       "      <td>0</td>\n",
       "      <td>NaN</td>\n",
       "      <td>NaN</td>\n",
       "      <td>0</td>\n",
       "      <td>NaN</td>\n",
       "      <td>0.000</td>\n",
       "      <td>NaN</td>\n",
       "      <td>NaN</td>\n",
       "      <td>NaN</td>\n",
       "    </tr>\n",
       "    <tr>\n",
       "      <th>23</th>\n",
       "      <td>2006-09-17 00:00:00</td>\n",
       "      <td>0</td>\n",
       "      <td>-</td>\n",
       "      <td>0</td>\n",
       "      <td>NaN</td>\n",
       "      <td>NaN</td>\n",
       "      <td>0</td>\n",
       "      <td>NaN</td>\n",
       "      <td>0.000</td>\n",
       "      <td>NaN</td>\n",
       "      <td>NaN</td>\n",
       "      <td>NaN</td>\n",
       "    </tr>\n",
       "    <tr>\n",
       "      <th>24</th>\n",
       "      <td>2006-09-18 00:00:00</td>\n",
       "      <td>0</td>\n",
       "      <td>-</td>\n",
       "      <td>0</td>\n",
       "      <td>NaN</td>\n",
       "      <td>NaN</td>\n",
       "      <td>0</td>\n",
       "      <td>NaN</td>\n",
       "      <td>0.000</td>\n",
       "      <td>NaN</td>\n",
       "      <td>NaN</td>\n",
       "      <td>NaN</td>\n",
       "    </tr>\n",
       "    <tr>\n",
       "      <th>25</th>\n",
       "      <td>2006-09-19 00:00:00</td>\n",
       "      <td>0</td>\n",
       "      <td>-</td>\n",
       "      <td>0</td>\n",
       "      <td>NaN</td>\n",
       "      <td>NaN</td>\n",
       "      <td>0</td>\n",
       "      <td>NaN</td>\n",
       "      <td>0.000</td>\n",
       "      <td>NaN</td>\n",
       "      <td>NaN</td>\n",
       "      <td>NaN</td>\n",
       "    </tr>\n",
       "    <tr>\n",
       "      <th>26</th>\n",
       "      <td>2006-09-20 00:00:00</td>\n",
       "      <td>0</td>\n",
       "      <td>-</td>\n",
       "      <td>0</td>\n",
       "      <td>NaN</td>\n",
       "      <td>NaN</td>\n",
       "      <td>0</td>\n",
       "      <td>NaN</td>\n",
       "      <td>0.000</td>\n",
       "      <td>NaN</td>\n",
       "      <td>NaN</td>\n",
       "      <td>NaN</td>\n",
       "    </tr>\n",
       "    <tr>\n",
       "      <th>27</th>\n",
       "      <td>2006-09-21 00:00:00</td>\n",
       "      <td>11.25</td>\n",
       "      <td>2941</td>\n",
       "      <td>38265</td>\n",
       "      <td>NaN</td>\n",
       "      <td>NaN</td>\n",
       "      <td>3498</td>\n",
       "      <td>NaN</td>\n",
       "      <td>318.564</td>\n",
       "      <td>NaN</td>\n",
       "      <td>NaN</td>\n",
       "      <td>NaN</td>\n",
       "    </tr>\n",
       "    <tr>\n",
       "      <th>28</th>\n",
       "      <td>2006-09-22 00:00:00</td>\n",
       "      <td>15.0121</td>\n",
       "      <td>2900</td>\n",
       "      <td>50645</td>\n",
       "      <td>NaN</td>\n",
       "      <td>NaN</td>\n",
       "      <td>4770</td>\n",
       "      <td>NaN</td>\n",
       "      <td>425.095</td>\n",
       "      <td>NaN</td>\n",
       "      <td>NaN</td>\n",
       "      <td>NaN</td>\n",
       "    </tr>\n",
       "    <tr>\n",
       "      <th>29</th>\n",
       "      <td>2006-09-23 00:00:00</td>\n",
       "      <td>15.035</td>\n",
       "      <td>2900</td>\n",
       "      <td>56420</td>\n",
       "      <td>NaN</td>\n",
       "      <td>NaN</td>\n",
       "      <td>3975</td>\n",
       "      <td>NaN</td>\n",
       "      <td>425.743</td>\n",
       "      <td>NaN</td>\n",
       "      <td>NaN</td>\n",
       "      <td>NaN</td>\n",
       "    </tr>\n",
       "    <tr>\n",
       "      <th>30</th>\n",
       "      <td>2006-09-24 00:00:00</td>\n",
       "      <td>15.0231</td>\n",
       "      <td>2900</td>\n",
       "      <td>54285</td>\n",
       "      <td>NaN</td>\n",
       "      <td>NaN</td>\n",
       "      <td>4290</td>\n",
       "      <td>NaN</td>\n",
       "      <td>425.406</td>\n",
       "      <td>NaN</td>\n",
       "      <td>NaN</td>\n",
       "      <td>NaN</td>\n",
       "    </tr>\n",
       "    <tr>\n",
       "      <th>31</th>\n",
       "      <td>2006-09-25 00:00:00</td>\n",
       "      <td>15.0329</td>\n",
       "      <td>2900</td>\n",
       "      <td>52100</td>\n",
       "      <td>NaN</td>\n",
       "      <td>NaN</td>\n",
       "      <td>4300</td>\n",
       "      <td>NaN</td>\n",
       "      <td>425.685</td>\n",
       "      <td>NaN</td>\n",
       "      <td>NaN</td>\n",
       "      <td>NaN</td>\n",
       "    </tr>\n",
       "    <tr>\n",
       "      <th>32</th>\n",
       "      <td>2006-09-26 00:00:00</td>\n",
       "      <td>15.041</td>\n",
       "      <td>2900</td>\n",
       "      <td>65750</td>\n",
       "      <td>NaN</td>\n",
       "      <td>NaN</td>\n",
       "      <td>3980</td>\n",
       "      <td>NaN</td>\n",
       "      <td>425.913</td>\n",
       "      <td>NaN</td>\n",
       "      <td>NaN</td>\n",
       "      <td>NaN</td>\n",
       "    </tr>\n",
       "    <tr>\n",
       "      <th>33</th>\n",
       "      <td>2006-09-27 00:00:00</td>\n",
       "      <td>15.2102</td>\n",
       "      <td>2900</td>\n",
       "      <td>71550</td>\n",
       "      <td>NaN</td>\n",
       "      <td>NaN</td>\n",
       "      <td>3816</td>\n",
       "      <td>NaN</td>\n",
       "      <td>430.705</td>\n",
       "      <td>NaN</td>\n",
       "      <td>NaN</td>\n",
       "      <td>NaN</td>\n",
       "    </tr>\n",
       "    <tr>\n",
       "      <th>34</th>\n",
       "      <td>2006-09-28 00:00:00</td>\n",
       "      <td>15.0165</td>\n",
       "      <td>2900</td>\n",
       "      <td>68305</td>\n",
       "      <td>NaN</td>\n",
       "      <td>NaN</td>\n",
       "      <td>3970</td>\n",
       "      <td>NaN</td>\n",
       "      <td>425.220</td>\n",
       "      <td>NaN</td>\n",
       "      <td>NaN</td>\n",
       "      <td>NaN</td>\n",
       "    </tr>\n",
       "    <tr>\n",
       "      <th>35</th>\n",
       "      <td>2006-09-29 00:00:00</td>\n",
       "      <td>11.6554</td>\n",
       "      <td>2920</td>\n",
       "      <td>88390</td>\n",
       "      <td>NaN</td>\n",
       "      <td>NaN</td>\n",
       "      <td>1240</td>\n",
       "      <td>NaN</td>\n",
       "      <td>330.044</td>\n",
       "      <td>NaN</td>\n",
       "      <td>NaN</td>\n",
       "      <td>NaN</td>\n",
       "    </tr>\n",
       "    <tr>\n",
       "      <th>36</th>\n",
       "      <td>2006-09-30 00:00:00</td>\n",
       "      <td>14.072</td>\n",
       "      <td>2925</td>\n",
       "      <td>98251</td>\n",
       "      <td>NaN</td>\n",
       "      <td>NaN</td>\n",
       "      <td>1130</td>\n",
       "      <td>NaN</td>\n",
       "      <td>398.473</td>\n",
       "      <td>NaN</td>\n",
       "      <td>NaN</td>\n",
       "      <td>NaN</td>\n",
       "    </tr>\n",
       "    <tr>\n",
       "      <th>37</th>\n",
       "      <td>Total =</td>\n",
       "      <td>142.348</td>\n",
       "      <td>NaN</td>\n",
       "      <td>643961</td>\n",
       "      <td>707761</td>\n",
       "      <td>0</td>\n",
       "      <td>34969</td>\n",
       "      <td>NaN</td>\n",
       "      <td>4030.848</td>\n",
       "      <td>NaN</td>\n",
       "      <td>NaN</td>\n",
       "      <td>NaN</td>\n",
       "    </tr>\n",
       "    <tr>\n",
       "      <th>38</th>\n",
       "      <td>Maximum =</td>\n",
       "      <td>15.2102</td>\n",
       "      <td>2941</td>\n",
       "      <td>98251</td>\n",
       "      <td>0</td>\n",
       "      <td>0</td>\n",
       "      <td>4770</td>\n",
       "      <td>NaN</td>\n",
       "      <td>NaN</td>\n",
       "      <td>NaN</td>\n",
       "      <td>NaN</td>\n",
       "      <td>NaN</td>\n",
       "    </tr>\n",
       "    <tr>\n",
       "      <th>39</th>\n",
       "      <td>Minimum =</td>\n",
       "      <td>0</td>\n",
       "      <td>2900</td>\n",
       "      <td>0</td>\n",
       "      <td>0</td>\n",
       "      <td>0</td>\n",
       "      <td>0</td>\n",
       "      <td>NaN</td>\n",
       "      <td>NaN</td>\n",
       "      <td>NaN</td>\n",
       "      <td>NaN</td>\n",
       "      <td>NaN</td>\n",
       "    </tr>\n",
       "    <tr>\n",
       "      <th>40</th>\n",
       "      <td>Average =</td>\n",
       "      <td>4.74494</td>\n",
       "      <td>2908.6</td>\n",
       "      <td>21465.4</td>\n",
       "      <td>NaN</td>\n",
       "      <td>NaN</td>\n",
       "      <td>1165.63</td>\n",
       "      <td>NaN</td>\n",
       "      <td>NaN</td>\n",
       "      <td>NaN</td>\n",
       "      <td>NaN</td>\n",
       "      <td>NaN</td>\n",
       "    </tr>\n",
       "    <tr>\n",
       "      <th>41</th>\n",
       "      <td>NaN</td>\n",
       "      <td>NaN</td>\n",
       "      <td>NaN</td>\n",
       "      <td>NaN</td>\n",
       "      <td>NaN</td>\n",
       "      <td>NaN</td>\n",
       "      <td>NaN</td>\n",
       "      <td>NaN</td>\n",
       "      <td>NaN</td>\n",
       "      <td>NaN</td>\n",
       "      <td>NaN</td>\n",
       "      <td>NaN</td>\n",
       "    </tr>\n",
       "    <tr>\n",
       "      <th>42</th>\n",
       "      <td>NaN</td>\n",
       "      <td>NaN</td>\n",
       "      <td>NaN</td>\n",
       "      <td>NaN</td>\n",
       "      <td>NaN</td>\n",
       "      <td>NaN</td>\n",
       "      <td>NaN</td>\n",
       "      <td>NaN</td>\n",
       "      <td>NaN</td>\n",
       "      <td>NaN</td>\n",
       "      <td>NaN</td>\n",
       "      <td>NaN</td>\n",
       "    </tr>\n",
       "    <tr>\n",
       "      <th>43</th>\n",
       "      <td>Sylhet Gas Fields Limited</td>\n",
       "      <td>NaN</td>\n",
       "      <td>NaN</td>\n",
       "      <td>NaN</td>\n",
       "      <td>NaN</td>\n",
       "      <td>NaN</td>\n",
       "      <td>NaN</td>\n",
       "      <td>NaN</td>\n",
       "      <td>NaN</td>\n",
       "      <td>NaN</td>\n",
       "      <td>NaN</td>\n",
       "      <td>NaN</td>\n",
       "    </tr>\n",
       "    <tr>\n",
       "      <th>44</th>\n",
       "      <td>(A Company of Petrobangla)</td>\n",
       "      <td>NaN</td>\n",
       "      <td>NaN</td>\n",
       "      <td>NaN</td>\n",
       "      <td>NaN</td>\n",
       "      <td>NaN</td>\n",
       "      <td>NaN</td>\n",
       "      <td>NaN</td>\n",
       "      <td>NaN</td>\n",
       "      <td>NaN</td>\n",
       "      <td>NaN</td>\n",
       "      <td>NaN</td>\n",
       "    </tr>\n",
       "    <tr>\n",
       "      <th>45</th>\n",
       "      <td>Kailashtilla Field</td>\n",
       "      <td>NaN</td>\n",
       "      <td>NaN</td>\n",
       "      <td>NaN</td>\n",
       "      <td>NaN</td>\n",
       "      <td>NaN</td>\n",
       "      <td>NaN</td>\n",
       "      <td>NaN</td>\n",
       "      <td>NaN</td>\n",
       "      <td>NaN</td>\n",
       "      <td>NaN</td>\n",
       "      <td>NaN</td>\n",
       "    </tr>\n",
       "    <tr>\n",
       "      <th>46</th>\n",
       "      <td>Daily Production Analysis</td>\n",
       "      <td>NaN</td>\n",
       "      <td>NaN</td>\n",
       "      <td>NaN</td>\n",
       "      <td>NaN</td>\n",
       "      <td>NaN</td>\n",
       "      <td>NaN</td>\n",
       "      <td>NaN</td>\n",
       "      <td>NaN</td>\n",
       "      <td>NaN</td>\n",
       "      <td>NaN</td>\n",
       "      <td>NaN</td>\n",
       "    </tr>\n",
       "    <tr>\n",
       "      <th>47</th>\n",
       "      <td>Well no. #</td>\n",
       "      <td>KTL -5</td>\n",
       "      <td>NaN</td>\n",
       "      <td>NaN</td>\n",
       "      <td>Month: October 2006</td>\n",
       "      <td>NaN</td>\n",
       "      <td>NaN</td>\n",
       "      <td>NaN</td>\n",
       "      <td>NaN</td>\n",
       "      <td>NaN</td>\n",
       "      <td>NaN</td>\n",
       "      <td>NaN</td>\n",
       "    </tr>\n",
       "    <tr>\n",
       "      <th>48</th>\n",
       "      <td>Date</td>\n",
       "      <td>Gas</td>\n",
       "      <td>Flowing Pressure</td>\n",
       "      <td>Liquid Production</td>\n",
       "      <td>NaN</td>\n",
       "      <td>NaN</td>\n",
       "      <td>NaN</td>\n",
       "      <td>NaN</td>\n",
       "      <td>NaN</td>\n",
       "      <td>NaN</td>\n",
       "      <td>NaN</td>\n",
       "      <td>NaN</td>\n",
       "    </tr>\n",
       "    <tr>\n",
       "      <th>49</th>\n",
       "      <td>NaN</td>\n",
       "      <td>NaN</td>\n",
       "      <td>NaN</td>\n",
       "      <td>Heavy Condensate</td>\n",
       "      <td>Light Condensate</td>\n",
       "      <td>Total Condensate</td>\n",
       "      <td>Water</td>\n",
       "      <td>NaN</td>\n",
       "      <td>NaN</td>\n",
       "      <td>NaN</td>\n",
       "      <td>NaN</td>\n",
       "      <td>NaN</td>\n",
       "    </tr>\n",
       "  </tbody>\n",
       "</table>\n",
       "</div>"
      ],
      "text/plain": [
       "     Sylhet Gas Fields Limited Unnamed: 1        Unnamed: 2  \\\n",
       "0   (A Company of Petrobangla)        NaN               NaN   \n",
       "1           Kailashtilla Field        NaN               NaN   \n",
       "2    Daily Production Analysis        NaN               NaN   \n",
       "3                   Well no. #     KTL -5               NaN   \n",
       "4                         Date       Gas   Flowing Pressure   \n",
       "5                          NaN        NaN               NaN   \n",
       "6                          NaN      MMSCF              PSIG   \n",
       "7          2006-09-01 00:00:00          0                 -   \n",
       "8          2006-09-02 00:00:00          0                 -   \n",
       "9          2006-09-03 00:00:00          0                 -   \n",
       "10         2006-09-04 00:00:00          0                 -   \n",
       "11         2006-09-05 00:00:00          0                 -   \n",
       "12         2006-09-06 00:00:00          0                 -   \n",
       "13         2006-09-07 00:00:00          0                 -   \n",
       "14         2006-09-08 00:00:00          0                 -   \n",
       "15         2006-09-09 00:00:00          0                 -   \n",
       "16         2006-09-10 00:00:00          0                 -   \n",
       "17         2006-09-11 00:00:00          0                 -   \n",
       "18         2006-09-12 00:00:00          0                 -   \n",
       "19         2006-09-13 00:00:00          0                 -   \n",
       "20         2006-09-14 00:00:00          0                 -   \n",
       "21         2006-09-15 00:00:00          0                 -   \n",
       "22         2006-09-16 00:00:00          0                 -   \n",
       "23         2006-09-17 00:00:00          0                 -   \n",
       "24         2006-09-18 00:00:00          0                 -   \n",
       "25         2006-09-19 00:00:00          0                 -   \n",
       "26         2006-09-20 00:00:00          0                 -   \n",
       "27         2006-09-21 00:00:00      11.25              2941   \n",
       "28         2006-09-22 00:00:00    15.0121              2900   \n",
       "29         2006-09-23 00:00:00     15.035              2900   \n",
       "30         2006-09-24 00:00:00    15.0231              2900   \n",
       "31         2006-09-25 00:00:00    15.0329              2900   \n",
       "32         2006-09-26 00:00:00     15.041              2900   \n",
       "33         2006-09-27 00:00:00    15.2102              2900   \n",
       "34         2006-09-28 00:00:00    15.0165              2900   \n",
       "35         2006-09-29 00:00:00    11.6554              2920   \n",
       "36         2006-09-30 00:00:00     14.072              2925   \n",
       "37                     Total =    142.348               NaN   \n",
       "38                   Maximum =    15.2102              2941   \n",
       "39                   Minimum =          0              2900   \n",
       "40                   Average =    4.74494            2908.6   \n",
       "41                         NaN        NaN               NaN   \n",
       "42                         NaN        NaN               NaN   \n",
       "43   Sylhet Gas Fields Limited        NaN               NaN   \n",
       "44  (A Company of Petrobangla)        NaN               NaN   \n",
       "45          Kailashtilla Field        NaN               NaN   \n",
       "46   Daily Production Analysis        NaN               NaN   \n",
       "47                  Well no. #     KTL -5               NaN   \n",
       "48                        Date       Gas   Flowing Pressure   \n",
       "49                         NaN        NaN               NaN   \n",
       "\n",
       "           Unnamed: 3             Unnamed: 4        Unnamed: 5 Unnamed: 6  \\\n",
       "0                 NaN                    NaN               NaN        NaN   \n",
       "1                 NaN                    NaN               NaN        NaN   \n",
       "2                 NaN                    NaN               NaN        NaN   \n",
       "3                 NaN  Month: September 2006               NaN        NaN   \n",
       "4   Liquid Production                    NaN               NaN        NaN   \n",
       "5    Heavy Condensate       Light Condensate  Total Condensate     Water    \n",
       "6               LITER                    NaN               NaN        NaN   \n",
       "7                   0                    NaN               NaN          0   \n",
       "8                   0                    NaN               NaN          0   \n",
       "9                   0                    NaN               NaN          0   \n",
       "10                  0                    NaN               NaN          0   \n",
       "11                  0                    NaN               NaN          0   \n",
       "12                  0                    NaN               NaN          0   \n",
       "13                  0                    NaN               NaN          0   \n",
       "14                  0                    NaN               NaN          0   \n",
       "15                  0                    NaN               NaN          0   \n",
       "16                  0                    NaN               NaN          0   \n",
       "17                  0                    NaN               NaN          0   \n",
       "18                  0                    NaN               NaN          0   \n",
       "19                  0                    NaN               NaN          0   \n",
       "20                  0                    NaN               NaN          0   \n",
       "21                  0                    NaN               NaN          0   \n",
       "22                  0                    NaN               NaN          0   \n",
       "23                  0                    NaN               NaN          0   \n",
       "24                  0                    NaN               NaN          0   \n",
       "25                  0                    NaN               NaN          0   \n",
       "26                  0                    NaN               NaN          0   \n",
       "27              38265                    NaN               NaN       3498   \n",
       "28              50645                    NaN               NaN       4770   \n",
       "29              56420                    NaN               NaN       3975   \n",
       "30              54285                    NaN               NaN       4290   \n",
       "31              52100                    NaN               NaN       4300   \n",
       "32              65750                    NaN               NaN       3980   \n",
       "33              71550                    NaN               NaN       3816   \n",
       "34              68305                    NaN               NaN       3970   \n",
       "35              88390                    NaN               NaN       1240   \n",
       "36              98251                    NaN               NaN       1130   \n",
       "37             643961                 707761                 0      34969   \n",
       "38              98251                      0                 0       4770   \n",
       "39                  0                      0                 0          0   \n",
       "40            21465.4                    NaN               NaN    1165.63   \n",
       "41                NaN                    NaN               NaN        NaN   \n",
       "42                NaN                    NaN               NaN        NaN   \n",
       "43                NaN                    NaN               NaN        NaN   \n",
       "44                NaN                    NaN               NaN        NaN   \n",
       "45                NaN                    NaN               NaN        NaN   \n",
       "46                NaN                    NaN               NaN        NaN   \n",
       "47                NaN    Month: October 2006               NaN        NaN   \n",
       "48  Liquid Production                    NaN               NaN        NaN   \n",
       "49   Heavy Condensate       Light Condensate  Total Condensate     Water    \n",
       "\n",
       "    Unnamed: 7  Unnamed: 8 Unnamed: 9  Unnamed: 10  Unnamed: 11  \n",
       "0          NaN         NaN        NaN          NaN          NaN  \n",
       "1          NaN         NaN        NaN          NaN          NaN  \n",
       "2          NaN         NaN        NaN          NaN          NaN  \n",
       "3          NaN         NaN        NaN          NaN          NaN  \n",
       "4          NaN         NaN        NaN          NaN          NaN  \n",
       "5          NaN         NaN        NaN          NaN          NaN  \n",
       "6          NaN         NaN        NaN          NaN          NaN  \n",
       "7          NaN       0.000        NaN          NaN          NaN  \n",
       "8          NaN       0.000        NaN          NaN          NaN  \n",
       "9          NaN       0.000        NaN          NaN          NaN  \n",
       "10         NaN       0.000        NaN          NaN          NaN  \n",
       "11         NaN       0.000        NaN          NaN          NaN  \n",
       "12         NaN       0.000        NaN          NaN          NaN  \n",
       "13         NaN       0.000        NaN          NaN          NaN  \n",
       "14         NaN       0.000        NaN          NaN          NaN  \n",
       "15         NaN       0.000        NaN          NaN          NaN  \n",
       "16         NaN       0.000        NaN          NaN          NaN  \n",
       "17         NaN       0.000        NaN          NaN          NaN  \n",
       "18         NaN       0.000        NaN          NaN          NaN  \n",
       "19         NaN       0.000        NaN          NaN          NaN  \n",
       "20         NaN       0.000        NaN          NaN          NaN  \n",
       "21         NaN       0.000        NaN          NaN          NaN  \n",
       "22         NaN       0.000        NaN          NaN          NaN  \n",
       "23         NaN       0.000        NaN          NaN          NaN  \n",
       "24         NaN       0.000        NaN          NaN          NaN  \n",
       "25         NaN       0.000        NaN          NaN          NaN  \n",
       "26         NaN       0.000        NaN          NaN          NaN  \n",
       "27         NaN     318.564        NaN          NaN          NaN  \n",
       "28         NaN     425.095        NaN          NaN          NaN  \n",
       "29         NaN     425.743        NaN          NaN          NaN  \n",
       "30         NaN     425.406        NaN          NaN          NaN  \n",
       "31         NaN     425.685        NaN          NaN          NaN  \n",
       "32         NaN     425.913        NaN          NaN          NaN  \n",
       "33         NaN     430.705        NaN          NaN          NaN  \n",
       "34         NaN     425.220        NaN          NaN          NaN  \n",
       "35         NaN     330.044        NaN          NaN          NaN  \n",
       "36         NaN     398.473        NaN          NaN          NaN  \n",
       "37         NaN    4030.848        NaN          NaN          NaN  \n",
       "38         NaN         NaN        NaN          NaN          NaN  \n",
       "39         NaN         NaN        NaN          NaN          NaN  \n",
       "40         NaN         NaN        NaN          NaN          NaN  \n",
       "41         NaN         NaN        NaN          NaN          NaN  \n",
       "42         NaN         NaN        NaN          NaN          NaN  \n",
       "43         NaN         NaN        NaN          NaN          NaN  \n",
       "44         NaN         NaN        NaN          NaN          NaN  \n",
       "45         NaN         NaN        NaN          NaN          NaN  \n",
       "46         NaN         NaN        NaN          NaN          NaN  \n",
       "47         NaN         NaN        NaN          NaN          NaN  \n",
       "48         NaN         NaN        NaN          NaN          NaN  \n",
       "49         NaN         NaN        NaN          NaN          NaN  "
      ]
     },
     "execution_count": 10,
     "metadata": {},
     "output_type": "execute_result"
    }
   ],
   "source": [
    "df.head(50)"
   ]
  },
  {
   "cell_type": "code",
   "execution_count": 12,
   "metadata": {},
   "outputs": [],
   "source": [
    "df = df.drop(['Unnamed: 7','Unnamed: 8','Unnamed: 9','Unnamed: 10','Unnamed: 11'],axis=1)"
   ]
  },
  {
   "cell_type": "code",
   "execution_count": 14,
   "metadata": {},
   "outputs": [],
   "source": [
    "df.columns = ['Date','Gas(MMscf)','Flowing Pressure(psig)','Heavy Condensate(L)','Light Condensate(L)',\n",
    "              'Total Condensate(L)','Water(L)']"
   ]
  },
  {
   "cell_type": "code",
   "execution_count": 17,
   "metadata": {},
   "outputs": [],
   "source": [
    "df = df.drop([0,1,2,3,4,5,6])"
   ]
  },
  {
   "cell_type": "code",
   "execution_count": 18,
   "metadata": {},
   "outputs": [
    {
     "data": {
      "text/html": [
       "<div>\n",
       "<style scoped>\n",
       "    .dataframe tbody tr th:only-of-type {\n",
       "        vertical-align: middle;\n",
       "    }\n",
       "\n",
       "    .dataframe tbody tr th {\n",
       "        vertical-align: top;\n",
       "    }\n",
       "\n",
       "    .dataframe thead th {\n",
       "        text-align: right;\n",
       "    }\n",
       "</style>\n",
       "<table border=\"1\" class=\"dataframe\">\n",
       "  <thead>\n",
       "    <tr style=\"text-align: right;\">\n",
       "      <th></th>\n",
       "      <th>Date</th>\n",
       "      <th>Gas(MMscf)</th>\n",
       "      <th>Flowing Pressure(psig)</th>\n",
       "      <th>Heavy Condensate(L)</th>\n",
       "      <th>Light Condensate(L)</th>\n",
       "      <th>Total Condensate(L)</th>\n",
       "      <th>Water(L)</th>\n",
       "    </tr>\n",
       "  </thead>\n",
       "  <tbody>\n",
       "    <tr>\n",
       "      <th>7</th>\n",
       "      <td>2006-09-01 00:00:00</td>\n",
       "      <td>0</td>\n",
       "      <td>-</td>\n",
       "      <td>0</td>\n",
       "      <td>NaN</td>\n",
       "      <td>NaN</td>\n",
       "      <td>0</td>\n",
       "    </tr>\n",
       "    <tr>\n",
       "      <th>8</th>\n",
       "      <td>2006-09-02 00:00:00</td>\n",
       "      <td>0</td>\n",
       "      <td>-</td>\n",
       "      <td>0</td>\n",
       "      <td>NaN</td>\n",
       "      <td>NaN</td>\n",
       "      <td>0</td>\n",
       "    </tr>\n",
       "    <tr>\n",
       "      <th>9</th>\n",
       "      <td>2006-09-03 00:00:00</td>\n",
       "      <td>0</td>\n",
       "      <td>-</td>\n",
       "      <td>0</td>\n",
       "      <td>NaN</td>\n",
       "      <td>NaN</td>\n",
       "      <td>0</td>\n",
       "    </tr>\n",
       "    <tr>\n",
       "      <th>10</th>\n",
       "      <td>2006-09-04 00:00:00</td>\n",
       "      <td>0</td>\n",
       "      <td>-</td>\n",
       "      <td>0</td>\n",
       "      <td>NaN</td>\n",
       "      <td>NaN</td>\n",
       "      <td>0</td>\n",
       "    </tr>\n",
       "    <tr>\n",
       "      <th>11</th>\n",
       "      <td>2006-09-05 00:00:00</td>\n",
       "      <td>0</td>\n",
       "      <td>-</td>\n",
       "      <td>0</td>\n",
       "      <td>NaN</td>\n",
       "      <td>NaN</td>\n",
       "      <td>0</td>\n",
       "    </tr>\n",
       "  </tbody>\n",
       "</table>\n",
       "</div>"
      ],
      "text/plain": [
       "                   Date Gas(MMscf) Flowing Pressure(psig) Heavy Condensate(L)  \\\n",
       "7   2006-09-01 00:00:00          0                      -                   0   \n",
       "8   2006-09-02 00:00:00          0                      -                   0   \n",
       "9   2006-09-03 00:00:00          0                      -                   0   \n",
       "10  2006-09-04 00:00:00          0                      -                   0   \n",
       "11  2006-09-05 00:00:00          0                      -                   0   \n",
       "\n",
       "   Light Condensate(L) Total Condensate(L) Water(L)  \n",
       "7                  NaN                 NaN        0  \n",
       "8                  NaN                 NaN        0  \n",
       "9                  NaN                 NaN        0  \n",
       "10                 NaN                 NaN        0  \n",
       "11                 NaN                 NaN        0  "
      ]
     },
     "execution_count": 18,
     "metadata": {},
     "output_type": "execute_result"
    }
   ],
   "source": [
    "df.head()"
   ]
  },
  {
   "cell_type": "code",
   "execution_count": 21,
   "metadata": {},
   "outputs": [],
   "source": [
    "#df.to_csv('KTL-5.csv',index=False)"
   ]
  },
  {
   "cell_type": "code",
   "execution_count": 22,
   "metadata": {},
   "outputs": [
    {
     "data": {
      "text/html": [
       "<div>\n",
       "<style scoped>\n",
       "    .dataframe tbody tr th:only-of-type {\n",
       "        vertical-align: middle;\n",
       "    }\n",
       "\n",
       "    .dataframe tbody tr th {\n",
       "        vertical-align: top;\n",
       "    }\n",
       "\n",
       "    .dataframe thead th {\n",
       "        text-align: right;\n",
       "    }\n",
       "</style>\n",
       "<table border=\"1\" class=\"dataframe\">\n",
       "  <thead>\n",
       "    <tr style=\"text-align: right;\">\n",
       "      <th></th>\n",
       "      <th>Date</th>\n",
       "      <th>Gas(MMscf)</th>\n",
       "      <th>Flowing Pressure(psig)</th>\n",
       "      <th>Heavy Condensate(L)</th>\n",
       "      <th>Light Condensate(L)</th>\n",
       "      <th>Total Condensate(L)</th>\n",
       "      <th>Water(L)</th>\n",
       "    </tr>\n",
       "  </thead>\n",
       "  <tbody>\n",
       "    <tr>\n",
       "      <th>count</th>\n",
       "      <td>2097</td>\n",
       "      <td>1567</td>\n",
       "      <td>1464</td>\n",
       "      <td>1538</td>\n",
       "      <td>1167</td>\n",
       "      <td>1119</td>\n",
       "      <td>1465</td>\n",
       "    </tr>\n",
       "    <tr>\n",
       "      <th>unique</th>\n",
       "      <td>1593</td>\n",
       "      <td>668</td>\n",
       "      <td>258</td>\n",
       "      <td>791</td>\n",
       "      <td>532</td>\n",
       "      <td>816</td>\n",
       "      <td>391</td>\n",
       "    </tr>\n",
       "    <tr>\n",
       "      <th>top</th>\n",
       "      <td>Minimum =</td>\n",
       "      <td>0</td>\n",
       "      <td>2980</td>\n",
       "      <td>0</td>\n",
       "      <td>0</td>\n",
       "      <td>0</td>\n",
       "      <td>0</td>\n",
       "    </tr>\n",
       "    <tr>\n",
       "      <th>freq</th>\n",
       "      <td>52</td>\n",
       "      <td>387</td>\n",
       "      <td>201</td>\n",
       "      <td>393</td>\n",
       "      <td>185</td>\n",
       "      <td>175</td>\n",
       "      <td>387</td>\n",
       "    </tr>\n",
       "  </tbody>\n",
       "</table>\n",
       "</div>"
      ],
      "text/plain": [
       "             Date  Gas(MMscf)  Flowing Pressure(psig)  Heavy Condensate(L)  \\\n",
       "count        2097        1567                    1464                 1538   \n",
       "unique       1593         668                     258                  791   \n",
       "top     Minimum =           0                    2980                    0   \n",
       "freq           52         387                     201                  393   \n",
       "\n",
       "        Light Condensate(L)  Total Condensate(L)  Water(L)  \n",
       "count                  1167                 1119      1465  \n",
       "unique                  532                  816       391  \n",
       "top                       0                    0         0  \n",
       "freq                    185                  175       387  "
      ]
     },
     "execution_count": 22,
     "metadata": {},
     "output_type": "execute_result"
    }
   ],
   "source": [
    "df.describe()"
   ]
  },
  {
   "cell_type": "code",
   "execution_count": 39,
   "metadata": {},
   "outputs": [
    {
     "name": "stdout",
     "output_type": "stream",
     "text": [
      "<class 'pandas.core.frame.DataFrame'>\n",
      "Int64Index: 2476 entries, 7 to 2482\n",
      "Data columns (total 7 columns):\n",
      " #   Column                  Non-Null Count  Dtype \n",
      "---  ------                  --------------  ----- \n",
      " 0   Date                    1583 non-null   object\n",
      " 1   Gas(MMscf)              1567 non-null   object\n",
      " 2   Flowing Pressure(psig)  1464 non-null   object\n",
      " 3   Heavy Condensate(L)     1538 non-null   object\n",
      " 4   Light Condensate(L)     1167 non-null   object\n",
      " 5   Total Condensate(L)     1119 non-null   object\n",
      " 6   Water(L)                1465 non-null   object\n",
      "dtypes: object(7)\n",
      "memory usage: 154.8+ KB\n"
     ]
    }
   ],
   "source": [
    "df.info()"
   ]
  },
  {
   "cell_type": "code",
   "execution_count": 38,
   "metadata": {},
   "outputs": [],
   "source": [
    "#df.head(50)"
   ]
  },
  {
   "cell_type": "code",
   "execution_count": 40,
   "metadata": {},
   "outputs": [],
   "source": [
    "import datetime\n",
    "\n",
    "for row in range(len(df['Date'])):\n",
    "    if isinstance(df['Date'].iloc[row], datetime.datetime):\n",
    "        continue\n",
    "    else:\n",
    "        df.iloc[row] = np.nan"
   ]
  },
  {
   "cell_type": "code",
   "execution_count": 48,
   "metadata": {},
   "outputs": [],
   "source": [
    "#df.head(50)"
   ]
  },
  {
   "cell_type": "code",
   "execution_count": 46,
   "metadata": {},
   "outputs": [],
   "source": [
    "df.dropna(how='all',inplace=True)"
   ]
  },
  {
   "cell_type": "code",
   "execution_count": 49,
   "metadata": {},
   "outputs": [
    {
     "data": {
      "text/plain": [
       "Date                        0\n",
       "Gas(MMscf)                365\n",
       "Flowing Pressure(psig)    365\n",
       "Heavy Condensate(L)       394\n",
       "Light Condensate(L)       703\n",
       "Total Condensate(L)       700\n",
       "Water(L)                  365\n",
       "dtype: int64"
      ]
     },
     "execution_count": 49,
     "metadata": {},
     "output_type": "execute_result"
    }
   ],
   "source": [
    "df.isnull().sum()"
   ]
  },
  {
   "cell_type": "code",
   "execution_count": 50,
   "metadata": {},
   "outputs": [
    {
     "name": "stdout",
     "output_type": "stream",
     "text": [
      "<class 'pandas.core.frame.DataFrame'>\n",
      "Int64Index: 1583 entries, 7 to 2303\n",
      "Data columns (total 7 columns):\n",
      " #   Column                  Non-Null Count  Dtype \n",
      "---  ------                  --------------  ----- \n",
      " 0   Date                    1583 non-null   object\n",
      " 1   Gas(MMscf)              1218 non-null   object\n",
      " 2   Flowing Pressure(psig)  1218 non-null   object\n",
      " 3   Heavy Condensate(L)     1189 non-null   object\n",
      " 4   Light Condensate(L)     880 non-null    object\n",
      " 5   Total Condensate(L)     883 non-null    object\n",
      " 6   Water(L)                1218 non-null   object\n",
      "dtypes: object(7)\n",
      "memory usage: 98.9+ KB\n"
     ]
    }
   ],
   "source": [
    "df.info()"
   ]
  },
  {
   "cell_type": "code",
   "execution_count": 51,
   "metadata": {},
   "outputs": [
    {
     "data": {
      "text/plain": [
       "<AxesSubplot:>"
      ]
     },
     "execution_count": 51,
     "metadata": {},
     "output_type": "execute_result"
    },
    {
     "data": {
      "image/png": "[encoded data removed]",
      "text/plain": [
       "<Figure size 432x288 with 1 Axes>"
      ]
     },
     "metadata": {
      "needs_background": "light"
     },
     "output_type": "display_data"
    }
   ],
   "source": [
    "df['Date'].plot()"
   ]
  },
  {
   "cell_type": "code",
   "execution_count": 52,
   "metadata": {},
   "outputs": [
    {
     "data": {
      "text/plain": [
       "<AxesSubplot:>"
      ]
     },
     "execution_count": 52,
     "metadata": {},
     "output_type": "execute_result"
    },
    {
     "data": {
      "image/png": "[encoded data removed]",
      "text/plain": [
       "<Figure size 432x288 with 1 Axes>"
      ]
     },
     "metadata": {
      "needs_background": "light"
     },
     "output_type": "display_data"
    }
   ],
   "source": [
    "df['Gas(MMscf)'].plot()"
   ]
  },
  {
   "cell_type": "code",
   "execution_count": 65,
   "metadata": {
    "scrolled": false
   },
   "outputs": [],
   "source": [
    "#df['Flowing Pressure(psig)'].astype(float)"
   ]
  },
  {
   "cell_type": "code",
   "execution_count": 69,
   "metadata": {},
   "outputs": [],
   "source": [
    "for row in range(len(df['Flowing Pressure(psig)'])):\n",
    "    if (df['Flowing Pressure(psig)'].iloc[row] == '-'):\n",
    "        df['Flowing Pressure(psig)'].iloc[row] = np.nan"
   ]
  },
  {
   "cell_type": "code",
   "execution_count": 70,
   "metadata": {
    "scrolled": false
   },
   "outputs": [
    {
     "data": {
      "text/plain": [
       "<AxesSubplot:>"
      ]
     },
     "execution_count": 70,
     "metadata": {},
     "output_type": "execute_result"
    },
    {
     "data": {
      "image/png": "[encoded data removed]",
      "text/plain": [
       "<Figure size 432x288 with 1 Axes>"
      ]
     },
     "metadata": {
      "needs_background": "light"
     },
     "output_type": "display_data"
    }
   ],
   "source": [
    "df['Flowing Pressure(psig)'].plot()"
   ]
  },
  {
   "cell_type": "code",
   "execution_count": 144,
   "metadata": {},
   "outputs": [
    {
     "data": {
      "text/plain": [
       "<AxesSubplot:>"
      ]
     },
     "execution_count": 144,
     "metadata": {},
     "output_type": "execute_result"
    },
    {
     "data": {
      "image/png": "[encoded data removed]",
      "text/plain": [
       "<Figure size 432x288 with 1 Axes>"
      ]
     },
     "metadata": {
      "needs_background": "light"
     },
     "output_type": "display_data"
    }
   ],
   "source": [
    "df['Heavy Condensate(L)'].plot()"
   ]
  },
  {
   "cell_type": "code",
   "execution_count": 145,
   "metadata": {},
   "outputs": [
    {
     "data": {
      "text/plain": [
       "<AxesSubplot:>"
      ]
     },
     "execution_count": 145,
     "metadata": {},
     "output_type": "execute_result"
    },
    {
     "data": {
      "image/png": "[encoded data removed]",
      "text/plain": [
       "<Figure size 432x288 with 1 Axes>"
      ]
     },
     "metadata": {
      "needs_background": "light"
     },
     "output_type": "display_data"
    }
   ],
   "source": [
    "df['Water(L)'].plot()"
   ]
  },
  {
   "cell_type": "code",
   "execution_count": 73,
   "metadata": {},
   "outputs": [
    {
     "data": {
      "text/plain": [
       "Date                        0\n",
       "Gas(MMscf)                365\n",
       "Flowing Pressure(psig)    385\n",
       "Heavy Condensate(L)       394\n",
       "Light Condensate(L)       703\n",
       "Total Condensate(L)       700\n",
       "Water(L)                  365\n",
       "dtype: int64"
      ]
     },
     "execution_count": 73,
     "metadata": {},
     "output_type": "execute_result"
    }
   ],
   "source": [
    "df.isnull().sum()"
   ]
  },
  {
   "cell_type": "code",
   "execution_count": 74,
   "metadata": {},
   "outputs": [
    {
     "name": "stdout",
     "output_type": "stream",
     "text": [
      "<class 'pandas.core.frame.DataFrame'>\n",
      "Int64Index: 1583 entries, 7 to 2303\n",
      "Data columns (total 7 columns):\n",
      " #   Column                  Non-Null Count  Dtype \n",
      "---  ------                  --------------  ----- \n",
      " 0   Date                    1583 non-null   object\n",
      " 1   Gas(MMscf)              1218 non-null   object\n",
      " 2   Flowing Pressure(psig)  1198 non-null   object\n",
      " 3   Heavy Condensate(L)     1189 non-null   object\n",
      " 4   Light Condensate(L)     880 non-null    object\n",
      " 5   Total Condensate(L)     883 non-null    object\n",
      " 6   Water(L)                1218 non-null   object\n",
      "dtypes: object(7)\n",
      "memory usage: 98.9+ KB\n"
     ]
    }
   ],
   "source": [
    "df.info()"
   ]
  },
  {
   "cell_type": "code",
   "execution_count": 76,
   "metadata": {},
   "outputs": [],
   "source": [
    "df1 = df.drop(['Light Condensate(L)','Total Condensate(L)'],axis=1)"
   ]
  },
  {
   "cell_type": "code",
   "execution_count": 78,
   "metadata": {},
   "outputs": [],
   "source": [
    "df1 = df1.dropna()"
   ]
  },
  {
   "cell_type": "code",
   "execution_count": 79,
   "metadata": {},
   "outputs": [
    {
     "data": {
      "text/html": [
       "<div>\n",
       "<style scoped>\n",
       "    .dataframe tbody tr th:only-of-type {\n",
       "        vertical-align: middle;\n",
       "    }\n",
       "\n",
       "    .dataframe tbody tr th {\n",
       "        vertical-align: top;\n",
       "    }\n",
       "\n",
       "    .dataframe thead th {\n",
       "        text-align: right;\n",
       "    }\n",
       "</style>\n",
       "<table border=\"1\" class=\"dataframe\">\n",
       "  <thead>\n",
       "    <tr style=\"text-align: right;\">\n",
       "      <th></th>\n",
       "      <th>Date</th>\n",
       "      <th>Gas(MMscf)</th>\n",
       "      <th>Flowing Pressure(psig)</th>\n",
       "      <th>Heavy Condensate(L)</th>\n",
       "      <th>Water(L)</th>\n",
       "    </tr>\n",
       "  </thead>\n",
       "  <tbody>\n",
       "    <tr>\n",
       "      <th>27</th>\n",
       "      <td>2006-09-21 00:00:00</td>\n",
       "      <td>11.25</td>\n",
       "      <td>2941</td>\n",
       "      <td>38265</td>\n",
       "      <td>3498</td>\n",
       "    </tr>\n",
       "    <tr>\n",
       "      <th>28</th>\n",
       "      <td>2006-09-22 00:00:00</td>\n",
       "      <td>15.0121</td>\n",
       "      <td>2900</td>\n",
       "      <td>50645</td>\n",
       "      <td>4770</td>\n",
       "    </tr>\n",
       "    <tr>\n",
       "      <th>29</th>\n",
       "      <td>2006-09-23 00:00:00</td>\n",
       "      <td>15.035</td>\n",
       "      <td>2900</td>\n",
       "      <td>56420</td>\n",
       "      <td>3975</td>\n",
       "    </tr>\n",
       "    <tr>\n",
       "      <th>30</th>\n",
       "      <td>2006-09-24 00:00:00</td>\n",
       "      <td>15.0231</td>\n",
       "      <td>2900</td>\n",
       "      <td>54285</td>\n",
       "      <td>4290</td>\n",
       "    </tr>\n",
       "    <tr>\n",
       "      <th>31</th>\n",
       "      <td>2006-09-25 00:00:00</td>\n",
       "      <td>15.0329</td>\n",
       "      <td>2900</td>\n",
       "      <td>52100</td>\n",
       "      <td>4300</td>\n",
       "    </tr>\n",
       "  </tbody>\n",
       "</table>\n",
       "</div>"
      ],
      "text/plain": [
       "                   Date Gas(MMscf) Flowing Pressure(psig) Heavy Condensate(L)  \\\n",
       "27  2006-09-21 00:00:00      11.25                   2941               38265   \n",
       "28  2006-09-22 00:00:00    15.0121                   2900               50645   \n",
       "29  2006-09-23 00:00:00     15.035                   2900               56420   \n",
       "30  2006-09-24 00:00:00    15.0231                   2900               54285   \n",
       "31  2006-09-25 00:00:00    15.0329                   2900               52100   \n",
       "\n",
       "   Water(L)  \n",
       "27     3498  \n",
       "28     4770  \n",
       "29     3975  \n",
       "30     4290  \n",
       "31     4300  "
      ]
     },
     "execution_count": 79,
     "metadata": {},
     "output_type": "execute_result"
    }
   ],
   "source": [
    "df1.head()"
   ]
  },
  {
   "cell_type": "code",
   "execution_count": 80,
   "metadata": {},
   "outputs": [
    {
     "name": "stdout",
     "output_type": "stream",
     "text": [
      "<class 'pandas.core.frame.DataFrame'>\n",
      "Int64Index: 1169 entries, 27 to 1770\n",
      "Data columns (total 5 columns):\n",
      " #   Column                  Non-Null Count  Dtype \n",
      "---  ------                  --------------  ----- \n",
      " 0   Date                    1169 non-null   object\n",
      " 1   Gas(MMscf)              1169 non-null   object\n",
      " 2   Flowing Pressure(psig)  1169 non-null   object\n",
      " 3   Heavy Condensate(L)     1169 non-null   object\n",
      " 4   Water(L)                1169 non-null   object\n",
      "dtypes: object(5)\n",
      "memory usage: 54.8+ KB\n"
     ]
    }
   ],
   "source": [
    "df1.info()"
   ]
  },
  {
   "cell_type": "code",
   "execution_count": 111,
   "metadata": {},
   "outputs": [],
   "source": [
    "X = df1.drop(['Date','Gas(MMscf)'],axis=1).values"
   ]
  },
  {
   "cell_type": "code",
   "execution_count": 112,
   "metadata": {},
   "outputs": [],
   "source": [
    "y = df1['Gas(MMscf)'].values"
   ]
  },
  {
   "cell_type": "code",
   "execution_count": 115,
   "metadata": {},
   "outputs": [],
   "source": [
    "X = np.asarray(X).astype(np.float32)\n",
    "y = np.asarray(y).astype(np.float32)"
   ]
  },
  {
   "cell_type": "code",
   "execution_count": 116,
   "metadata": {},
   "outputs": [
    {
     "data": {
      "text/plain": [
       "(1169, 3)"
      ]
     },
     "execution_count": 116,
     "metadata": {},
     "output_type": "execute_result"
    }
   ],
   "source": [
    "X.shape"
   ]
  },
  {
   "cell_type": "code",
   "execution_count": 117,
   "metadata": {},
   "outputs": [
    {
     "data": {
      "text/plain": [
       "(1169,)"
      ]
     },
     "execution_count": 117,
     "metadata": {},
     "output_type": "execute_result"
    }
   ],
   "source": [
    "y.shape"
   ]
  },
  {
   "cell_type": "code",
   "execution_count": 92,
   "metadata": {},
   "outputs": [
    {
     "data": {
      "text/plain": [
       "<seaborn.axisgrid.PairGrid at 0x2588e6cef10>"
      ]
     },
     "execution_count": 92,
     "metadata": {},
     "output_type": "execute_result"
    },
    {
     "data": {
      "image/png": "[encoded data removed]",
      "text/plain": [
       "<Figure size 720x720 with 20 Axes>"
      ]
     },
     "metadata": {
      "needs_background": "light"
     },
     "output_type": "display_data"
    }
   ],
   "source": [
    "sns.pairplot(df1)"
   ]
  },
  {
   "cell_type": "code",
   "execution_count": 118,
   "metadata": {},
   "outputs": [],
   "source": [
    "from sklearn.model_selection import train_test_split\n",
    "\n",
    "X_train, X_test, y_train, y_test = train_test_split(X, y, test_size=0.1, random_state=42)"
   ]
  },
  {
   "cell_type": "markdown",
   "metadata": {},
   "source": [
    "## Scaling"
   ]
  },
  {
   "cell_type": "code",
   "execution_count": 119,
   "metadata": {},
   "outputs": [],
   "source": [
    "from sklearn.preprocessing import MinMaxScaler"
   ]
  },
  {
   "cell_type": "code",
   "execution_count": 120,
   "metadata": {},
   "outputs": [],
   "source": [
    "scaler = MinMaxScaler()"
   ]
  },
  {
   "cell_type": "code",
   "execution_count": 121,
   "metadata": {},
   "outputs": [],
   "source": [
    "X_train = scaler.fit_transform(X_train)"
   ]
  },
  {
   "cell_type": "code",
   "execution_count": 122,
   "metadata": {},
   "outputs": [],
   "source": [
    "X_test = scaler.transform(X_test)"
   ]
  },
  {
   "cell_type": "code",
   "execution_count": null,
   "metadata": {},
   "outputs": [],
   "source": []
  },
  {
   "cell_type": "code",
   "execution_count": null,
   "metadata": {},
   "outputs": [],
   "source": []
  },
  {
   "cell_type": "markdown",
   "metadata": {},
   "source": [
    "## Creating Model"
   ]
  },
  {
   "cell_type": "code",
   "execution_count": 107,
   "metadata": {},
   "outputs": [],
   "source": [
    "from tensorflow.keras.models import Sequential\n",
    "from tensorflow.keras.layers import Dense"
   ]
  },
  {
   "cell_type": "code",
   "execution_count": 134,
   "metadata": {},
   "outputs": [],
   "source": [
    "model = Sequential()\n",
    "\n",
    "model.add(Dense(5,activation='relu'))\n",
    "model.add(Dense(5,activation='relu'))\n",
    "model.add(Dense(5,activation='relu'))\n",
    "\n",
    "model.add(Dense(1))"
   ]
  },
  {
   "cell_type": "code",
   "execution_count": 135,
   "metadata": {},
   "outputs": [],
   "source": [
    "model.compile(optimizer='adam', loss='mse')"
   ]
  },
  {
   "cell_type": "code",
   "execution_count": 136,
   "metadata": {},
   "outputs": [
    {
     "name": "stdout",
     "output_type": "stream",
     "text": [
      "Epoch 1/80\n",
      "33/33 [==============================] - 1s 10ms/step - loss: 37.4135 - val_loss: 33.5561\n",
      "Epoch 2/80\n",
      "33/33 [==============================] - 0s 3ms/step - loss: 32.9733 - val_loss: 28.9321\n",
      "Epoch 3/80\n",
      "33/33 [==============================] - 0s 4ms/step - loss: 27.4272 - val_loss: 23.0015\n",
      "Epoch 4/80\n",
      "33/33 [==============================] - 0s 4ms/step - loss: 20.9126 - val_loss: 17.6952\n",
      "Epoch 5/80\n",
      "33/33 [==============================] - 0s 3ms/step - loss: 16.1191 - val_loss: 14.7322\n",
      "Epoch 6/80\n",
      "33/33 [==============================] - 0s 4ms/step - loss: 13.9328 - val_loss: 13.7632\n",
      "Epoch 7/80\n",
      "33/33 [==============================] - 0s 3ms/step - loss: 13.0875 - val_loss: 13.0837\n",
      "Epoch 8/80\n",
      "33/33 [==============================] - 0s 3ms/step - loss: 12.4024 - val_loss: 12.3615\n",
      "Epoch 9/80\n",
      "33/33 [==============================] - 0s 3ms/step - loss: 11.5528 - val_loss: 11.1923\n",
      "Epoch 10/80\n",
      "33/33 [==============================] - 0s 4ms/step - loss: 10.1588 - val_loss: 9.6273\n",
      "Epoch 11/80\n",
      "33/33 [==============================] - 0s 4ms/step - loss: 8.6047 - val_loss: 8.0594\n",
      "Epoch 12/80\n",
      "33/33 [==============================] - 0s 4ms/step - loss: 7.0913 - val_loss: 6.5669\n",
      "Epoch 13/80\n",
      "33/33 [==============================] - 0s 4ms/step - loss: 5.8176 - val_loss: 5.3742\n",
      "Epoch 14/80\n",
      "33/33 [==============================] - 0s 4ms/step - loss: 4.7765 - val_loss: 4.3412\n",
      "Epoch 15/80\n",
      "33/33 [==============================] - 0s 4ms/step - loss: 3.8678 - val_loss: 3.4101\n",
      "Epoch 16/80\n",
      "33/33 [==============================] - 0s 4ms/step - loss: 3.0655 - val_loss: 2.6479\n",
      "Epoch 17/80\n",
      "33/33 [==============================] - 0s 3ms/step - loss: 2.4304 - val_loss: 2.0350\n",
      "Epoch 18/80\n",
      "33/33 [==============================] - 0s 3ms/step - loss: 1.9307 - val_loss: 1.5435\n",
      "Epoch 19/80\n",
      "33/33 [==============================] - 0s 4ms/step - loss: 1.5322 - val_loss: 1.1648\n",
      "Epoch 20/80\n",
      "33/33 [==============================] - 0s 5ms/step - loss: 1.2485 - val_loss: 0.9358\n",
      "Epoch 21/80\n",
      "33/33 [==============================] - 0s 4ms/step - loss: 1.0705 - val_loss: 0.7668\n",
      "Epoch 22/80\n",
      "33/33 [==============================] - 0s 5ms/step - loss: 0.9389 - val_loss: 0.6441\n",
      "Epoch 23/80\n",
      "33/33 [==============================] - 0s 4ms/step - loss: 0.8378 - val_loss: 0.5484\n",
      "Epoch 24/80\n",
      "33/33 [==============================] - 0s 4ms/step - loss: 0.7581 - val_loss: 0.4743\n",
      "Epoch 25/80\n",
      "33/33 [==============================] - 0s 4ms/step - loss: 0.6956 - val_loss: 0.4129\n",
      "Epoch 26/80\n",
      "33/33 [==============================] - 0s 3ms/step - loss: 0.6455 - val_loss: 0.3650\n",
      "Epoch 27/80\n",
      "33/33 [==============================] - 0s 4ms/step - loss: 0.6084 - val_loss: 0.3275\n",
      "Epoch 28/80\n",
      "33/33 [==============================] - 0s 4ms/step - loss: 0.5772 - val_loss: 0.2987\n",
      "Epoch 29/80\n",
      "33/33 [==============================] - 0s 3ms/step - loss: 0.5555 - val_loss: 0.2753\n",
      "Epoch 30/80\n",
      "33/33 [==============================] - 0s 3ms/step - loss: 0.5356 - val_loss: 0.2574\n",
      "Epoch 31/80\n",
      "33/33 [==============================] - 0s 3ms/step - loss: 0.5229 - val_loss: 0.2579\n",
      "Epoch 32/80\n",
      "33/33 [==============================] - 0s 4ms/step - loss: 0.5164 - val_loss: 0.2334\n",
      "Epoch 33/80\n",
      "33/33 [==============================] - 0s 4ms/step - loss: 0.5021 - val_loss: 0.2214\n",
      "Epoch 34/80\n",
      "33/33 [==============================] - 0s 3ms/step - loss: 0.4938 - val_loss: 0.2147\n",
      "Epoch 35/80\n",
      "33/33 [==============================] - 0s 3ms/step - loss: 0.4873 - val_loss: 0.2092\n",
      "Epoch 36/80\n",
      "33/33 [==============================] - 0s 4ms/step - loss: 0.4867 - val_loss: 0.2054\n",
      "Epoch 37/80\n",
      "33/33 [==============================] - 0s 4ms/step - loss: 0.4769 - val_loss: 0.2029\n",
      "Epoch 38/80\n",
      "33/33 [==============================] - 0s 4ms/step - loss: 0.4759 - val_loss: 0.1951\n",
      "Epoch 39/80\n",
      "33/33 [==============================] - 0s 3ms/step - loss: 0.4723 - val_loss: 0.1919\n",
      "Epoch 40/80\n",
      "33/33 [==============================] - 0s 3ms/step - loss: 0.4725 - val_loss: 0.1963\n",
      "Epoch 41/80\n",
      "33/33 [==============================] - 0s 4ms/step - loss: 0.4682 - val_loss: 0.1869\n",
      "Epoch 42/80\n",
      "33/33 [==============================] - 0s 4ms/step - loss: 0.4649 - val_loss: 0.1872\n",
      "Epoch 43/80\n",
      "33/33 [==============================] - 0s 4ms/step - loss: 0.4637 - val_loss: 0.1833\n",
      "Epoch 44/80\n",
      "33/33 [==============================] - 0s 4ms/step - loss: 0.4643 - val_loss: 0.1846\n",
      "Epoch 45/80\n",
      "33/33 [==============================] - 0s 4ms/step - loss: 0.4596 - val_loss: 0.1801\n",
      "Epoch 46/80\n",
      "33/33 [==============================] - 0s 4ms/step - loss: 0.4617 - val_loss: 0.1819\n",
      "Epoch 47/80\n",
      "33/33 [==============================] - 0s 4ms/step - loss: 0.4586 - val_loss: 0.1786\n",
      "Epoch 48/80\n",
      "33/33 [==============================] - 0s 4ms/step - loss: 0.4576 - val_loss: 0.1776\n",
      "Epoch 49/80\n",
      "33/33 [==============================] - 0s 4ms/step - loss: 0.4586 - val_loss: 0.1816\n",
      "Epoch 50/80\n",
      "33/33 [==============================] - 0s 4ms/step - loss: 0.4555 - val_loss: 0.1828\n",
      "Epoch 51/80\n",
      "33/33 [==============================] - 0s 4ms/step - loss: 0.4627 - val_loss: 0.1764\n",
      "Epoch 52/80\n",
      "33/33 [==============================] - 0s 4ms/step - loss: 0.4574 - val_loss: 0.1758\n",
      "Epoch 53/80\n",
      "33/33 [==============================] - 0s 4ms/step - loss: 0.4560 - val_loss: 0.1761\n",
      "Epoch 54/80\n",
      "33/33 [==============================] - 0s 3ms/step - loss: 0.4572 - val_loss: 0.1775\n",
      "Epoch 55/80\n",
      "33/33 [==============================] - 0s 3ms/step - loss: 0.4547 - val_loss: 0.1781\n",
      "Epoch 56/80\n",
      "33/33 [==============================] - 0s 3ms/step - loss: 0.4580 - val_loss: 0.1754\n",
      "Epoch 57/80\n",
      "33/33 [==============================] - 0s 3ms/step - loss: 0.4548 - val_loss: 0.1749\n",
      "Epoch 58/80\n",
      "33/33 [==============================] - 0s 3ms/step - loss: 0.4549 - val_loss: 0.1747\n",
      "Epoch 59/80\n",
      "33/33 [==============================] - 0s 3ms/step - loss: 0.4551 - val_loss: 0.1763\n",
      "Epoch 60/80\n",
      "33/33 [==============================] - 0s 5ms/step - loss: 0.4574 - val_loss: 0.1755\n",
      "Epoch 61/80\n",
      "33/33 [==============================] - 0s 4ms/step - loss: 0.4602 - val_loss: 0.1765\n",
      "Epoch 62/80\n",
      "33/33 [==============================] - 0s 4ms/step - loss: 0.4587 - val_loss: 0.1760\n",
      "Epoch 63/80\n",
      "33/33 [==============================] - 0s 3ms/step - loss: 0.4618 - val_loss: 0.1741\n",
      "Epoch 64/80\n",
      "33/33 [==============================] - 0s 3ms/step - loss: 0.4542 - val_loss: 0.1752\n",
      "Epoch 65/80\n",
      "33/33 [==============================] - 0s 4ms/step - loss: 0.4525 - val_loss: 0.1963\n",
      "Epoch 66/80\n",
      "33/33 [==============================] - 0s 4ms/step - loss: 0.4643 - val_loss: 0.1831\n",
      "Epoch 67/80\n",
      "33/33 [==============================] - 0s 4ms/step - loss: 0.4560 - val_loss: 0.1753\n",
      "Epoch 68/80\n",
      "33/33 [==============================] - 0s 3ms/step - loss: 0.4542 - val_loss: 0.1873\n",
      "Epoch 69/80\n",
      "33/33 [==============================] - 0s 5ms/step - loss: 0.4574 - val_loss: 0.1750\n",
      "Epoch 70/80\n",
      "33/33 [==============================] - 0s 6ms/step - loss: 0.4544 - val_loss: 0.1767\n",
      "Epoch 71/80\n",
      "33/33 [==============================] - 0s 4ms/step - loss: 0.4564 - val_loss: 0.1765\n",
      "Epoch 72/80\n",
      "33/33 [==============================] - 0s 3ms/step - loss: 0.4617 - val_loss: 0.1817\n",
      "Epoch 73/80\n",
      "33/33 [==============================] - 0s 4ms/step - loss: 0.4538 - val_loss: 0.1787\n",
      "Epoch 74/80\n",
      "33/33 [==============================] - 0s 4ms/step - loss: 0.4580 - val_loss: 0.1752\n",
      "Epoch 75/80\n",
      "33/33 [==============================] - 0s 4ms/step - loss: 0.4541 - val_loss: 0.1746\n",
      "Epoch 76/80\n",
      "33/33 [==============================] - 0s 4ms/step - loss: 0.4563 - val_loss: 0.1748\n",
      "Epoch 77/80\n",
      "33/33 [==============================] - 0s 4ms/step - loss: 0.4534 - val_loss: 0.1748\n",
      "Epoch 78/80\n",
      "33/33 [==============================] - 0s 4ms/step - loss: 0.4586 - val_loss: 0.1802\n",
      "Epoch 79/80\n",
      "33/33 [==============================] - 0s 4ms/step - loss: 0.4539 - val_loss: 0.1757\n",
      "Epoch 80/80\n",
      "33/33 [==============================] - 0s 5ms/step - loss: 0.4549 - val_loss: 0.1764\n"
     ]
    },
    {
     "data": {
      "text/plain": [
       "<tensorflow.python.keras.callbacks.History at 0x258982c94c0>"
      ]
     },
     "execution_count": 136,
     "metadata": {},
     "output_type": "execute_result"
    }
   ],
   "source": [
    "model.fit(x=X_train, y=y_train,validation_data=(X_test,y_test), epochs=80)"
   ]
  },
  {
   "cell_type": "code",
   "execution_count": 137,
   "metadata": {},
   "outputs": [],
   "source": [
    "loss = pd.DataFrame(model.history.history)"
   ]
  },
  {
   "cell_type": "code",
   "execution_count": 138,
   "metadata": {},
   "outputs": [
    {
     "data": {
      "text/plain": [
       "<AxesSubplot:>"
      ]
     },
     "execution_count": 138,
     "metadata": {},
     "output_type": "execute_result"
    },
    {
     "data": {
      "image/png": "[encoded data removed]",
      "text/plain": [
       "<Figure size 432x288 with 1 Axes>"
      ]
     },
     "metadata": {
      "needs_background": "light"
     },
     "output_type": "display_data"
    }
   ],
   "source": [
    "loss.plot()"
   ]
  },
  {
   "cell_type": "code",
   "execution_count": null,
   "metadata": {},
   "outputs": [],
   "source": []
  },
  {
   "cell_type": "code",
   "execution_count": 129,
   "metadata": {},
   "outputs": [],
   "source": [
    "from sklearn.metrics import mean_squared_error, mean_absolute_error, explained_variance_score"
   ]
  },
  {
   "cell_type": "code",
   "execution_count": 139,
   "metadata": {},
   "outputs": [],
   "source": [
    "predictions = model.predict(X_test)"
   ]
  },
  {
   "cell_type": "code",
   "execution_count": 140,
   "metadata": {},
   "outputs": [
    {
     "data": {
      "text/plain": [
       "0.27604595"
      ]
     },
     "execution_count": 140,
     "metadata": {},
     "output_type": "execute_result"
    }
   ],
   "source": [
    "mean_absolute_error(y_test,predictions)"
   ]
  },
  {
   "cell_type": "code",
   "execution_count": 141,
   "metadata": {},
   "outputs": [
    {
     "data": {
      "text/plain": [
       "0.9897401928901672"
      ]
     },
     "execution_count": 141,
     "metadata": {},
     "output_type": "execute_result"
    }
   ],
   "source": [
    "explained_variance_score(y_test,predictions)"
   ]
  },
  {
   "cell_type": "code",
   "execution_count": 142,
   "metadata": {},
   "outputs": [
    {
     "data": {
      "text/plain": [
       "Text(0.5, 1.0, 'KTL-5')"
      ]
     },
     "execution_count": 142,
     "metadata": {},
     "output_type": "execute_result"
    },
    {
     "data": {
      "image/png": "[encoded data removed]",
      "text/plain": [
       "<Figure size 864x432 with 1 Axes>"
      ]
     },
     "metadata": {
      "needs_background": "light"
     },
     "output_type": "display_data"
    }
   ],
   "source": [
    "plt.figure(figsize=(12,6))\n",
    "plt.plot(y_test, color='r',label='True Values')\n",
    "plt.plot(predictions,color='b',label='Predicted Values')\n",
    "plt.legend()\n",
    "plt.ylabel('Daily Gas Production rate (MMscf)')\n",
    "plt.title('KTL-5')"
   ]
  },
  {
   "cell_type": "code",
   "execution_count": null,
   "metadata": {},
   "outputs": [],
   "source": []
  },
  {
   "cell_type": "markdown",
   "metadata": {},
   "source": [
    "### Now we're going to take 1st 70% of the data for training the model and use the bottom 30% data for testing."
   ]
  },
  {
   "cell_type": "code",
   "execution_count": 149,
   "metadata": {},
   "outputs": [
    {
     "data": {
      "text/html": [
       "<div>\n",
       "<style scoped>\n",
       "    .dataframe tbody tr th:only-of-type {\n",
       "        vertical-align: middle;\n",
       "    }\n",
       "\n",
       "    .dataframe tbody tr th {\n",
       "        vertical-align: top;\n",
       "    }\n",
       "\n",
       "    .dataframe thead th {\n",
       "        text-align: right;\n",
       "    }\n",
       "</style>\n",
       "<table border=\"1\" class=\"dataframe\">\n",
       "  <thead>\n",
       "    <tr style=\"text-align: right;\">\n",
       "      <th></th>\n",
       "      <th>Date</th>\n",
       "      <th>Gas(MMscf)</th>\n",
       "      <th>Flowing Pressure(psig)</th>\n",
       "      <th>Heavy Condensate(L)</th>\n",
       "      <th>Water(L)</th>\n",
       "    </tr>\n",
       "  </thead>\n",
       "  <tbody>\n",
       "    <tr>\n",
       "      <th>27</th>\n",
       "      <td>2006-09-21 00:00:00</td>\n",
       "      <td>11.25</td>\n",
       "      <td>2941</td>\n",
       "      <td>38265</td>\n",
       "      <td>3498</td>\n",
       "    </tr>\n",
       "    <tr>\n",
       "      <th>28</th>\n",
       "      <td>2006-09-22 00:00:00</td>\n",
       "      <td>15.0121</td>\n",
       "      <td>2900</td>\n",
       "      <td>50645</td>\n",
       "      <td>4770</td>\n",
       "    </tr>\n",
       "    <tr>\n",
       "      <th>29</th>\n",
       "      <td>2006-09-23 00:00:00</td>\n",
       "      <td>15.035</td>\n",
       "      <td>2900</td>\n",
       "      <td>56420</td>\n",
       "      <td>3975</td>\n",
       "    </tr>\n",
       "    <tr>\n",
       "      <th>30</th>\n",
       "      <td>2006-09-24 00:00:00</td>\n",
       "      <td>15.0231</td>\n",
       "      <td>2900</td>\n",
       "      <td>54285</td>\n",
       "      <td>4290</td>\n",
       "    </tr>\n",
       "    <tr>\n",
       "      <th>31</th>\n",
       "      <td>2006-09-25 00:00:00</td>\n",
       "      <td>15.0329</td>\n",
       "      <td>2900</td>\n",
       "      <td>52100</td>\n",
       "      <td>4300</td>\n",
       "    </tr>\n",
       "  </tbody>\n",
       "</table>\n",
       "</div>"
      ],
      "text/plain": [
       "                   Date Gas(MMscf) Flowing Pressure(psig) Heavy Condensate(L)  \\\n",
       "27  2006-09-21 00:00:00      11.25                   2941               38265   \n",
       "28  2006-09-22 00:00:00    15.0121                   2900               50645   \n",
       "29  2006-09-23 00:00:00     15.035                   2900               56420   \n",
       "30  2006-09-24 00:00:00    15.0231                   2900               54285   \n",
       "31  2006-09-25 00:00:00    15.0329                   2900               52100   \n",
       "\n",
       "   Water(L)  \n",
       "27     3498  \n",
       "28     4770  \n",
       "29     3975  \n",
       "30     4290  \n",
       "31     4300  "
      ]
     },
     "execution_count": 149,
     "metadata": {},
     "output_type": "execute_result"
    }
   ],
   "source": [
    "df1.head()"
   ]
  },
  {
   "cell_type": "code",
   "execution_count": 150,
   "metadata": {},
   "outputs": [
    {
     "data": {
      "text/plain": [
       "<AxesSubplot:>"
      ]
     },
     "execution_count": 150,
     "metadata": {},
     "output_type": "execute_result"
    },
    {
     "data": {
      "image/png": "[encoded data removed]",
      "text/plain": [
       "<Figure size 432x288 with 1 Axes>"
      ]
     },
     "metadata": {
      "needs_background": "light"
     },
     "output_type": "display_data"
    }
   ],
   "source": [
    "df1['Gas(MMscf)'].plot()"
   ]
  },
  {
   "cell_type": "code",
   "execution_count": 154,
   "metadata": {},
   "outputs": [
    {
     "data": {
      "text/plain": [
       "1169"
      ]
     },
     "execution_count": 154,
     "metadata": {},
     "output_type": "execute_result"
    }
   ],
   "source": [
    "len(df1['Gas(MMscf)'])"
   ]
  },
  {
   "cell_type": "code",
   "execution_count": 155,
   "metadata": {},
   "outputs": [
    {
     "data": {
      "text/plain": [
       "350.7"
      ]
     },
     "execution_count": 155,
     "metadata": {},
     "output_type": "execute_result"
    }
   ],
   "source": [
    "1169*.3"
   ]
  },
  {
   "cell_type": "code",
   "execution_count": 157,
   "metadata": {},
   "outputs": [],
   "source": [
    "ind = 1169 - 350"
   ]
  },
  {
   "cell_type": "code",
   "execution_count": 158,
   "metadata": {},
   "outputs": [
    {
     "data": {
      "text/plain": [
       "819"
      ]
     },
     "execution_count": 158,
     "metadata": {},
     "output_type": "execute_result"
    }
   ],
   "source": [
    "ind"
   ]
  },
  {
   "cell_type": "code",
   "execution_count": 209,
   "metadata": {},
   "outputs": [],
   "source": [
    "X = df1.drop(['Date','Gas(MMscf)'],axis=1)"
   ]
  },
  {
   "cell_type": "code",
   "execution_count": 210,
   "metadata": {},
   "outputs": [],
   "source": [
    "y = df1['Gas(MMscf)']"
   ]
  },
  {
   "cell_type": "code",
   "execution_count": 211,
   "metadata": {},
   "outputs": [],
   "source": [
    "X = X.astype(float)\n",
    "y = y.astype(float)"
   ]
  },
  {
   "cell_type": "code",
   "execution_count": null,
   "metadata": {},
   "outputs": [],
   "source": []
  },
  {
   "cell_type": "code",
   "execution_count": 212,
   "metadata": {},
   "outputs": [],
   "source": [
    "X_train = X.iloc[:ind].values"
   ]
  },
  {
   "cell_type": "code",
   "execution_count": 213,
   "metadata": {},
   "outputs": [
    {
     "data": {
      "text/plain": [
       "(819, 3)"
      ]
     },
     "execution_count": 213,
     "metadata": {},
     "output_type": "execute_result"
    }
   ],
   "source": [
    "X_train.shape"
   ]
  },
  {
   "cell_type": "code",
   "execution_count": 214,
   "metadata": {},
   "outputs": [],
   "source": [
    "X_test = X.iloc[ind:].values"
   ]
  },
  {
   "cell_type": "code",
   "execution_count": 215,
   "metadata": {},
   "outputs": [
    {
     "data": {
      "text/plain": [
       "(350, 3)"
      ]
     },
     "execution_count": 215,
     "metadata": {},
     "output_type": "execute_result"
    }
   ],
   "source": [
    "X_test.shape"
   ]
  },
  {
   "cell_type": "code",
   "execution_count": 216,
   "metadata": {},
   "outputs": [],
   "source": [
    "y_train = y.iloc[:ind].values\n",
    "y_test = y.iloc[ind:].values"
   ]
  },
  {
   "cell_type": "code",
   "execution_count": 217,
   "metadata": {},
   "outputs": [],
   "source": [
    "X_train = scaler.fit_transform(X_train)\n",
    "X_test = scaler.transform(X_test)"
   ]
  },
  {
   "cell_type": "code",
   "execution_count": 271,
   "metadata": {},
   "outputs": [
    {
     "data": {
      "text/plain": [
       "array([[0.92847682, 0.30052306, 0.04633113],\n",
       "       [0.87417219, 0.39775226, 0.06317881],\n",
       "       [0.87417219, 0.44310756, 0.05264901],\n",
       "       ...,\n",
       "       [0.41059603, 0.2836768 , 0.86013245],\n",
       "       [0.41059603, 0.28218459, 0.86238411],\n",
       "       [0.41059603, 0.28469779, 0.86384106]])"
      ]
     },
     "execution_count": 271,
     "metadata": {},
     "output_type": "execute_result"
    }
   ],
   "source": [
    "X_train"
   ]
  },
  {
   "cell_type": "code",
   "execution_count": 272,
   "metadata": {},
   "outputs": [],
   "source": [
    "from tensorflow.keras.callbacks import EarlyStopping"
   ]
  },
  {
   "cell_type": "code",
   "execution_count": 253,
   "metadata": {},
   "outputs": [],
   "source": [
    "early_stop = EarlyStopping(monitor='val_loss', mode='min',verbose=1, patience=2)"
   ]
  },
  {
   "cell_type": "code",
   "execution_count": 268,
   "metadata": {},
   "outputs": [],
   "source": [
    "model = Sequential()\n",
    "\n",
    "model.add(Dense(10,activation='relu'))\n",
    "model.add(Dense(10,activation='relu'))\n",
    "model.add(Dense(10,activation='relu'))\n",
    "\n",
    "model.add(Dense(1))\n",
    "\n",
    "model.compile(optimizer='adam', loss='mse')"
   ]
  },
  {
   "cell_type": "code",
   "execution_count": 269,
   "metadata": {},
   "outputs": [
    {
     "name": "stdout",
     "output_type": "stream",
     "text": [
      "Epoch 1/30\n",
      "26/26 [==============================] - 1s 12ms/step - loss: 56.7473 - val_loss: 9.7568\n",
      "Epoch 2/30\n",
      "26/26 [==============================] - 0s 6ms/step - loss: 54.9080 - val_loss: 8.2596\n",
      "Epoch 3/30\n",
      "26/26 [==============================] - 0s 7ms/step - loss: 52.3949 - val_loss: 6.5265\n",
      "Epoch 4/30\n",
      "26/26 [==============================] - 0s 8ms/step - loss: 48.5877 - val_loss: 4.6455\n",
      "Epoch 5/30\n",
      "26/26 [==============================] - 0s 8ms/step - loss: 43.2242 - val_loss: 4.1742\n",
      "Epoch 6/30\n",
      "26/26 [==============================] - 0s 5ms/step - loss: 36.5261 - val_loss: 8.1886\n",
      "Epoch 7/30\n",
      "26/26 [==============================] - 0s 5ms/step - loss: 28.5635 - val_loss: 20.5565\n",
      "Epoch 8/30\n",
      "26/26 [==============================] - 0s 5ms/step - loss: 19.9153 - val_loss: 41.9023\n",
      "Epoch 9/30\n",
      "26/26 [==============================] - 0s 5ms/step - loss: 13.9836 - val_loss: 57.0476\n",
      "Epoch 10/30\n",
      "26/26 [==============================] - 0s 5ms/step - loss: 11.5122 - val_loss: 52.5343\n",
      "Epoch 11/30\n",
      "26/26 [==============================] - 0s 6ms/step - loss: 9.4053 - val_loss: 45.4506\n",
      "Epoch 12/30\n",
      "26/26 [==============================] - 0s 5ms/step - loss: 7.8280 - val_loss: 39.9116\n",
      "Epoch 13/30\n",
      "26/26 [==============================] - 0s 5ms/step - loss: 6.5019 - val_loss: 37.3479\n",
      "Epoch 14/30\n",
      "26/26 [==============================] - 0s 5ms/step - loss: 5.2844 - val_loss: 34.7829\n",
      "Epoch 15/30\n",
      "26/26 [==============================] - 0s 5ms/step - loss: 4.2294 - val_loss: 33.0107\n",
      "Epoch 16/30\n",
      "26/26 [==============================] - 0s 5ms/step - loss: 3.3132 - val_loss: 32.4271\n",
      "Epoch 17/30\n",
      "26/26 [==============================] - 0s 5ms/step - loss: 2.6711 - val_loss: 32.1226\n",
      "Epoch 18/30\n",
      "26/26 [==============================] - 0s 6ms/step - loss: 2.2244 - val_loss: 30.9141\n",
      "Epoch 19/30\n",
      "26/26 [==============================] - 0s 6ms/step - loss: 1.8737 - val_loss: 30.5600\n",
      "Epoch 20/30\n",
      "26/26 [==============================] - 0s 5ms/step - loss: 1.6081 - val_loss: 29.3086\n",
      "Epoch 21/30\n",
      "26/26 [==============================] - 0s 5ms/step - loss: 1.4020 - val_loss: 28.4965\n",
      "Epoch 22/30\n",
      "26/26 [==============================] - 0s 5ms/step - loss: 1.2375 - val_loss: 28.1823\n",
      "Epoch 23/30\n",
      "26/26 [==============================] - 0s 5ms/step - loss: 1.1056 - val_loss: 27.4948\n",
      "Epoch 24/30\n",
      "26/26 [==============================] - 0s 5ms/step - loss: 1.0245 - val_loss: 27.1061\n",
      "Epoch 25/30\n",
      "26/26 [==============================] - 0s 5ms/step - loss: 0.9771 - val_loss: 26.3953\n",
      "Epoch 26/30\n",
      "26/26 [==============================] - 0s 6ms/step - loss: 0.9434 - val_loss: 25.7620\n",
      "Epoch 27/30\n",
      "26/26 [==============================] - 0s 5ms/step - loss: 0.9168 - val_loss: 25.5286\n",
      "Epoch 28/30\n",
      "26/26 [==============================] - 0s 6ms/step - loss: 0.8899 - val_loss: 23.8922\n",
      "Epoch 29/30\n",
      "26/26 [==============================] - 0s 5ms/step - loss: 0.8658 - val_loss: 23.8804\n",
      "Epoch 30/30\n",
      "26/26 [==============================] - 0s 4ms/step - loss: 0.8357 - val_loss: 23.1402\n"
     ]
    },
    {
     "data": {
      "text/plain": [
       "<tensorflow.python.keras.callbacks.History at 0x258a3ced910>"
      ]
     },
     "execution_count": 269,
     "metadata": {},
     "output_type": "execute_result"
    }
   ],
   "source": [
    "model.fit(x=X_train, y=y_train,validation_data=(X_test,y_test), epochs=30)"
   ]
  },
  {
   "cell_type": "code",
   "execution_count": 270,
   "metadata": {},
   "outputs": [
    {
     "data": {
      "text/plain": [
       "<AxesSubplot:>"
      ]
     },
     "execution_count": 270,
     "metadata": {},
     "output_type": "execute_result"
    },
    {
     "data": {
      "image/png": "[encoded data removed]",
      "text/plain": [
       "<Figure size 432x288 with 1 Axes>"
      ]
     },
     "metadata": {
      "needs_background": "light"
     },
     "output_type": "display_data"
    }
   ],
   "source": [
    "loss = pd.DataFrame(model.history.history)\n",
    "loss.plot()"
   ]
  },
  {
   "cell_type": "code",
   "execution_count": 262,
   "metadata": {},
   "outputs": [],
   "source": [
    "predictions = model.predict(X_test)"
   ]
  },
  {
   "cell_type": "code",
   "execution_count": 263,
   "metadata": {},
   "outputs": [
    {
     "data": {
      "text/plain": [
       "1.2554334708994384"
      ]
     },
     "execution_count": 263,
     "metadata": {},
     "output_type": "execute_result"
    }
   ],
   "source": [
    "mean_absolute_error(y_test,predictions)"
   ]
  },
  {
   "cell_type": "code",
   "execution_count": 264,
   "metadata": {},
   "outputs": [
    {
     "data": {
      "text/plain": [
       "0.9511467524205167"
      ]
     },
     "execution_count": 264,
     "metadata": {},
     "output_type": "execute_result"
    }
   ],
   "source": [
    "explained_variance_score(y_test,predictions)"
   ]
  },
  {
   "cell_type": "code",
   "execution_count": 265,
   "metadata": {},
   "outputs": [
    {
     "data": {
      "text/plain": [
       "Text(0.5, 1.0, 'KTL-5')"
      ]
     },
     "execution_count": 265,
     "metadata": {},
     "output_type": "execute_result"
    },
    {
     "data": {
      "image/png": "[encoded data removed]",
      "text/plain": [
       "<Figure size 864x432 with 1 Axes>"
      ]
     },
     "metadata": {
      "needs_background": "light"
     },
     "output_type": "display_data"
    }
   ],
   "source": [
    "plt.figure(figsize=(12,6))\n",
    "plt.plot(y_test, color='r',label='True Values')\n",
    "plt.plot(predictions,color='b',label='Predicted Values')\n",
    "plt.legend()\n",
    "plt.ylabel('Daily Gas Production rate (MMscf)')\n",
    "plt.title('KTL-5')"
   ]
  },
  {
   "cell_type": "code",
   "execution_count": 266,
   "metadata": {},
   "outputs": [
    {
     "data": {
      "text/plain": [
       "Text(0.5, 1.0, 'KTL-5')"
      ]
     },
     "execution_count": 266,
     "metadata": {},
     "output_type": "execute_result"
    },
    {
     "data": {
      "image/png": "[encoded data removed]",
      "text/plain": [
       "<Figure size 864x432 with 1 Axes>"
      ]
     },
     "metadata": {
      "needs_background": "light"
     },
     "output_type": "display_data"
    }
   ],
   "source": [
    "plt.figure(figsize=(12,6))\n",
    "plt.plot(df1['Date'],y,label='True Values')\n",
    "plt.plot(df1['Date'].iloc[ind:],predictions,label='Predicted Values')\n",
    "plt.legend()\n",
    "plt.xlabel('Year')\n",
    "plt.ylabel('Daily Gas Production rate (MMscf)')\n",
    "plt.title('KTL-5')"
   ]
  },
  {
   "cell_type": "code",
   "execution_count": null,
   "metadata": {},
   "outputs": [],
   "source": []
  }
 ],
 "metadata": {
  "kernelspec": {
   "display_name": "Python 3",
   "language": "python",
   "name": "python3"
  },
  "language_info": {
   "codemirror_mode": {
    "name": "ipython",
    "version": 3
   },
   "file_extension": ".py",
   "mimetype": "text/x-python",
   "name": "python",
   "nbconvert_exporter": "python",
   "pygments_lexer": "ipython3",
   "version": "3.8.5"
  }
 },
 "nbformat": 4,
 "nbformat_minor": 4
}
